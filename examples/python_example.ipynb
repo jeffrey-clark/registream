{
 "cells": [
  {
   "cell_type": "markdown",
   "metadata": {},
   "source": [
    "# RegiStream Autolabel - Python Tutorial\n",
    "\n",
    "The following Jupyter Notebook demonatrates how to use the RegiStream Autolabel Python API. To keep it minial and pythonic, the main functionality is just a pandas accessor.\n",
    "\n",
    "Main Idea: \n",
    "When we call the `df.lab` we can perform opertaions (tabulations, plots, regressions) but output will automatically be labelled. "
   ]
  },
  {
   "cell_type": "code",
   "execution_count": 1,
   "metadata": {},
   "outputs": [],
   "source": [
    "# --- SET PROJECT ROOT IN JUPYTER NOTEBOOK ---\n",
    "import os\n",
    "import sys\n",
    "\n",
    "# Start from the current working directory instead of __file__\n",
    "root_dir = os.getcwd()\n",
    "\n",
    "# Traverse upwards until the .project_root file is found or until reaching system root\n",
    "while not os.path.exists(os.path.join(root_dir, '.project_root')) and root_dir != '/':\n",
    "    root_dir = os.path.dirname(root_dir)\n",
    "\n",
    "# Make sure the .project_root file is found\n",
    "assert root_dir != '/', \"The .project_root file was not found. Make sure it exists in your project root.\"\n",
    "\n",
    "# Append project root to sys.path\n",
    "if root_dir not in sys.path:\n",
    "    sys.path.append(root_dir)\n",
    "\n",
    "# Now imports should work correctly\n",
    "import pandas as pd\n",
    "from python.src import autolabel, lookup\n",
    "import seaborn as sns\n",
    "import matplotlib.pyplot as plt\n",
    "import statsmodels.api as sm\n"
   ]
  },
  {
   "cell_type": "markdown",
   "metadata": {},
   "source": [
    "## Custom RegiStream Data Directory\n",
    "\n",
    "In some closed systems where default data directories cannot be created, your system administrator might assign a custom system environment varaible REGISTREAM_DIR. This can even be set in each script as follows"
   ]
  },
  {
   "cell_type": "code",
   "execution_count": 2,
   "metadata": {},
   "outputs": [],
   "source": [
    "# set custom directory\n",
    "# os.environ['REGISTREAM_DIR'] = \"path/to/your/custom/directory\""
   ]
  },
  {
   "cell_type": "markdown",
   "metadata": {},
   "source": [
    "## 1. Calling the `autolabel` method to a DataFrame"
   ]
  },
  {
   "cell_type": "code",
   "execution_count": 3,
   "metadata": {},
   "outputs": [
    {
     "name": "stdout",
     "output_type": "stream",
     "text": [
      "\n",
      "✓ Applied variable labels to 165 variables\n",
      "\n"
     ]
    },
    {
     "name": "stderr",
     "output_type": "stream",
     "text": [
      "Parsing value labels: 100%|██████████| 42/42 [00:00<00:00, 1977.29it/s]"
     ]
    },
    {
     "name": "stdout",
     "output_type": "stream",
     "text": [
      "\n",
      "✓ Applied value labels to 41 variables\n",
      "\n"
     ]
    },
    {
     "name": "stderr",
     "output_type": "stream",
     "text": [
      "\n"
     ]
    }
   ],
   "source": [
    "# Load your data\n",
    "lisa_df = pd.read_stata(os.path.join(root_dir, 'test/lisa.dta'))\n",
    "\n",
    "# Apply the labels and value labels automatically\n",
    "lisa_df.autolabel(domain='scb', lang='eng');\n",
    "lisa_df.autolabel(label_type='values', domain='scb', lang='eng');"
   ]
  },
  {
   "cell_type": "markdown",
   "metadata": {},
   "source": [
    "## 2. Metadata search\n",
    "\n",
    "Once we have labeled a dataframe, we can serach for variables on variable name or variable label regex match.\n",
    "The search functionalitiy applies only to variable labels and variable names, not value labels."
   ]
  },
  {
   "cell_type": "code",
   "execution_count": 4,
   "metadata": {},
   "outputs": [
    {
     "name": "stdout",
     "output_type": "stream",
     "text": [
      "\n",
      "2 variables found matching 'industry':\n",
      "--------------------------------------------------------------------------------\n",
      "• astsni2002: Branch of \u001b[1;32mindustry\u001b[0m for statistics, main\n",
      "• astsni2007: Branch of \u001b[1;32mindustry\u001b[0m for statistics, main\n",
      "--------------------------------------------------------------------------------\n"
     ]
    }
   ],
   "source": [
    "lisa_df.meta_search(\"industry\")"
   ]
  },
  {
   "cell_type": "markdown",
   "metadata": {},
   "source": [
    "## 3. Metadata manipulation"
   ]
  },
  {
   "cell_type": "markdown",
   "metadata": {},
   "source": [
    "### 3.1 Getting variable labels\n",
    "\n",
    "We can get single or multiple variable labels using the `.get_variable_labels` method."
   ]
  },
  {
   "cell_type": "code",
   "execution_count": 5,
   "metadata": {},
   "outputs": [
    {
     "name": "stdout",
     "output_type": "stream",
     "text": [
      "Branch of industry for statistics, main\n",
      "{'astsni2007': 'Branch of industry for statistics, main', 'ssyk3': 'Occupation at 3-digit level, main occupation'}\n"
     ]
    }
   ],
   "source": [
    "print(lisa_df.get_variable_labels('astsni2007'))\n",
    "\n",
    "print(lisa_df.get_variable_labels(['astsni2007', 'ssyk3']))\n",
    "\n",
    "lisa_df.get_variable_labels();  # will return all variable labels"
   ]
  },
  {
   "cell_type": "markdown",
   "metadata": {},
   "source": [
    "you can also access variable labels using the lab accessorer"
   ]
  },
  {
   "cell_type": "code",
   "execution_count": 6,
   "metadata": {},
   "outputs": [
    {
     "name": "stdout",
     "output_type": "stream",
     "text": [
      "Branch of industry for statistics, main\n",
      "Branch of industry for statistics, main\n"
     ]
    }
   ],
   "source": [
    "\n",
    "print(lisa_df.lab.variable_labels['astsni2007'])\n",
    "\n",
    "print(lisa_df.lab.variable_labels.get('astsni2007'))\n",
    "\n",
    "lisa_df.lab.variable_labels;  # will return all variable label"
   ]
  },
  {
   "cell_type": "markdown",
   "metadata": {},
   "source": [
    "### 3.2 Setting variable labels\n",
    "\n",
    "We can update the values of variable labels using the `set_variable_labels` method."
   ]
  },
  {
   "cell_type": "code",
   "execution_count": 7,
   "metadata": {},
   "outputs": [
    {
     "name": "stdout",
     "output_type": "stream",
     "text": [
      "Original label:  Branch of industry for statistics, main\n",
      "Updated label:  Industry classification (SNI 2007)\n"
     ]
    }
   ],
   "source": [
    "new_df = lisa_df.copy()\n",
    "\n",
    "print(\"Original label: \", new_df.get_variable_labels('astsni2007'))\n",
    "\n",
    "new_df.set_variable_labels('astsni2007', \"Industry classification (SNI 2007)\")\n",
    "\n",
    "print(\"Updated label: \", new_df.get_variable_labels('astsni2007'))\n"
   ]
  },
  {
   "cell_type": "markdown",
   "metadata": {},
   "source": [
    "you can also set multiple variable labels at once"
   ]
  },
  {
   "cell_type": "code",
   "execution_count": 8,
   "metadata": {},
   "outputs": [
    {
     "name": "stdout",
     "output_type": "stream",
     "text": [
      "Original labels:  {'astsni2007': 'Branch of industry for statistics, main', 'ssyk3': 'Occupation at 3-digit level, main occupation'}\n",
      "Updated labels:  {'astsni2007': 'Industry classification (SNI 2007)', 'ssyk3': 'Industry classification (SSYK 2012)'}\n"
     ]
    }
   ],
   "source": [
    "new_df = lisa_df.copy()\n",
    "\n",
    "print(\"Original labels: \", new_df.get_variable_labels(['astsni2007', 'ssyk3']))\n",
    "\n",
    "new_df.set_variable_labels({\n",
    "    'astsni2007': \"Industry classification (SNI 2007)\",\n",
    "    'ssyk3': \"Industry classification (SSYK 2012)\"\n",
    "})\n",
    "\n",
    "print(\"Updated labels: \", new_df.get_variable_labels(['astsni2007', 'ssyk3']))\n"
   ]
  },
  {
   "cell_type": "markdown",
   "metadata": {},
   "source": [
    "you can also use lambda functions for more advanced variable label updates"
   ]
  },
  {
   "cell_type": "code",
   "execution_count": 9,
   "metadata": {},
   "outputs": [
    {
     "name": "stdout",
     "output_type": "stream",
     "text": [
      "Original label:  Branch of industry for statistics, main\n",
      "Updated label:  Branch of industry for statistics, main (updated) \n",
      "\n",
      "Original label:  {'astsni2007': 'Industry classification (SNI 2007)', 'ssyk3': 'Industry classification (SSYK 2012)'}\n",
      "Updated label:  {'astsni2007': 'Industry classification (SNI 2007) (updated)', 'ssyk3': 'Industry classification (SSYK 2012) (updated)'}\n"
     ]
    }
   ],
   "source": [
    "# single variable label with lambda function\n",
    "print(\"Original label: \", new_df.get_variable_labels('astsni2002'))\n",
    "new_df.set_variable_labels('astsni2002', lambda label: f\"{label} (updated)\")\n",
    "print(\"Updated label: \", new_df.get_variable_labels('astsni2002'), \"\\n\")\n",
    "\n",
    "# multiple variable labels with lambda function\n",
    "print(\"Original label: \", new_df.get_variable_labels(['astsni2007', 'ssyk3']))\n",
    "new_df.set_variable_labels(['astsni2007', 'ssyk3'], lambda label: f\"{label} (updated)\")\n",
    "print(\"Updated label: \", new_df.get_variable_labels(['astsni2007', 'ssyk3']))\n"
   ]
  },
  {
   "cell_type": "markdown",
   "metadata": {},
   "source": [
    "finally, we can set multiple labels via dictionary immediatley"
   ]
  },
  {
   "cell_type": "code",
   "execution_count": 10,
   "metadata": {},
   "outputs": [
    {
     "name": "stdout",
     "output_type": "stream",
     "text": [
      "new_df labels before restore:  {'astsni2002': 'Branch of industry for statistics, main (updated)', 'astsni2007': 'Industry classification (SNI 2007) (updated)', 'ssyk3': 'Industry classification (SSYK 2012) (updated)'}\n",
      "new_df labels after restore:  {'astsni2002': 'Branch of industry for statistics, main', 'astsni2007': 'Branch of industry for statistics, main', 'ssyk3': 'Occupation at 3-digit level, main occupation'}\n"
     ]
    }
   ],
   "source": [
    "\n",
    "# get the variable labels from the original dataframe\n",
    "original_labels = lisa_df.get_variable_labels(['astsni2002', 'astsni2007', 'ssyk3'])\n",
    "\n",
    "print(\"new_df labels before restore: \", new_df.get_variable_labels(['astsni2002', 'astsni2007', 'ssyk3']))\n",
    "\n",
    "# set variable lablels to the new/modified dataframe by dictionary\n",
    "new_df.set_variable_labels(original_labels)\n",
    "\n",
    "print(\"new_df labels after restore: \", new_df.get_variable_labels(['astsni2002', 'astsni2007', 'ssyk3']))\n"
   ]
  },
  {
   "cell_type": "markdown",
   "metadata": {},
   "source": [
    "### 3.3 Getting value labels\n",
    "\n",
    "Just as the variable labels, we can get value labels by the `get_value_labels` method. We create a `print_sample_value_labels` function here to show a sample of value labels."
   ]
  },
  {
   "cell_type": "code",
   "execution_count": 11,
   "metadata": {},
   "outputs": [],
   "source": [
    "def print_sample_value_labels(value_labels, num_samples=3):\n",
    "    \"\"\"Prints the first `num_samples` value labels for each dictionary key.\n",
    "    Handles both nested dictionaries ({var_name: {code: label}}) and flat dictionaries ({code: label}).\n",
    "    \"\"\"\n",
    "    if isinstance(value_labels, dict):\n",
    "        first_value = next(iter(value_labels.values()))  # Check the first value type\n",
    "\n",
    "        if isinstance(first_value, dict):\n",
    "            # Nested dictionary case: {variable_name: {value_code: value_label}}\n",
    "            for var_name, labels in value_labels.items():\n",
    "                print(f\"{var_name}\\n\" + \"-\" * len(var_name))  # Print variable name with separator\n",
    "                sample_labels = list(labels.items())[:num_samples]  # Get first `num_samples` items\n",
    "                for code, description in sample_labels:\n",
    "                    print(f\"   - {code}: {description}\")\n",
    "                if len(labels) > num_samples:\n",
    "                    print(\"   ...\")  # Indicate more labels exist\n",
    "                print()  # Blank line for readability\n",
    "\n",
    "        else:\n",
    "            # Flat dictionary case: {value_code: value_label}\n",
    "            print(\"Value Labels\\n------------\")\n",
    "            sample_labels = list(value_labels.items())[:num_samples]\n",
    "            for code, description in sample_labels:\n",
    "                print(f\"   - {code}: {description}\")\n",
    "            if len(value_labels) > num_samples:\n",
    "                print(\"   ...\")\n",
    "\n",
    "    else:\n",
    "        print(\"Invalid input: Expected a dictionary of value labels.\")\n",
    "\n"
   ]
  },
  {
   "cell_type": "code",
   "execution_count": 12,
   "metadata": {},
   "outputs": [
    {
     "name": "stdout",
     "output_type": "stream",
     "text": [
      "Get the value labels for 'astsni2007'\n",
      "Value Labels\n",
      "------------\n",
      "   - 00000: Unknown\n",
      "   - 01110: Growers of cereals (except rice), pulses and oilseeds\n",
      "   - 01120: Rice farmer\n",
      "   ...\n",
      "\n",
      "Get the value labels for 'astsni2007' and 'ssyk3'\n",
      "astsni2007\n",
      "----------\n",
      "   - 00000: Unknown\n",
      "   - 01110: Growers of cereals (except rice), pulses and oilseeds\n",
      "   - 01120: Rice farmer\n",
      "   ...\n",
      "\n",
      "ssyk3\n",
      "-----\n",
      "   - ***: Data missing\n",
      "   - 011: Military personnel\n",
      "   - 111: Senior officials and politicians\n",
      "   ...\n",
      "\n"
     ]
    }
   ],
   "source": [
    "print(\"Get the value labels for 'astsni2007'\")\n",
    "x = lisa_df.get_value_labels('astsni2007')\n",
    "print_sample_value_labels(x)\n",
    "\n",
    "\n",
    "print(\"\\nGet the value labels for 'astsni2007' and 'ssyk3'\")\n",
    "y = lisa_df.get_value_labels(['astsni2007', 'ssyk3'])\n",
    "print_sample_value_labels(y)\n",
    "\n",
    "\n",
    "lisa_df.get_value_labels();  # will return a nested dictionary of all value labels in dataframe"
   ]
  },
  {
   "cell_type": "markdown",
   "metadata": {},
   "source": [
    "you can also access value labels using the lab accessorer (output supressed)"
   ]
  },
  {
   "cell_type": "code",
   "execution_count": 13,
   "metadata": {},
   "outputs": [],
   "source": [
    "lisa_df.lab.value_labels['astsni2007'];\n",
    "\n",
    "lisa_df.lab.value_labels.get('astsni2007');\n",
    "\n",
    "lisa_df.lab.value_labels;  # will return all variable label"
   ]
  },
  {
   "cell_type": "markdown",
   "metadata": {},
   "source": [
    "### 3.4 Setting value labels\n",
    "We can update the value labels as well, see examples below. There is an overwrite arguemnt that method takes, if you want the passed dictionary of value labels to overrwite the existing value labels, rather than default behavior to  update/merge value labels."
   ]
  },
  {
   "cell_type": "code",
   "execution_count": 14,
   "metadata": {},
   "outputs": [
    {
     "name": "stdout",
     "output_type": "stream",
     "text": [
      "Get the updated value labels for 'astsni2007'\n",
      "Value Labels\n",
      "------------\n",
      "   - 00000: custom label 1\n",
      "   - 01110: custom label 2\n",
      "   - 01120: custom label 3\n",
      "   ...\n",
      "\n",
      "Get updated value labels for 'astsni2007' and 'ssyk3'\n",
      "astsni2007\n",
      "----------\n",
      "   - 00000: new custom label 1\n",
      "   - 01110: new custom label 2\n",
      "   - 01120: new custom label 3\n",
      "   ...\n",
      "\n",
      "ssyk3\n",
      "-----\n",
      "   - ***: Data missing\n",
      "   - 011: new custom label 4\n",
      "   - 111: new custom label 5\n",
      "   ...\n",
      "\n"
     ]
    }
   ],
   "source": [
    "# --- Update value labels for singel variable ---\n",
    "\n",
    "# Define the updates\n",
    "updates = {'00000': 'custom label 1', '01110': 'custom label 2', '01120': 'custom label 3'}\n",
    "\n",
    "# Update the value labels correctly\n",
    "lisa_df.set_value_labels('astsni2007', updates)\n",
    "\n",
    "# Retrieve and print the updated value labels\n",
    "print(\"Get the updated value labels for 'astsni2007'\")\n",
    "x = lisa_df.get_value_labels('astsni2007')\n",
    "print_sample_value_labels(x)\n",
    "\n",
    "\n",
    "\n",
    "# --- Update value labels for multiple variables at once ---\n",
    "\n",
    "# Define updates for multiple variables\n",
    "updates = {\n",
    "    'astsni2007': {'00000': 'new custom label 1', '01110': 'new custom label 2', '01120': 'new custom label 3'},\n",
    "    'ssyk3': {'011': 'new custom label 4', '111': 'new custom label 5'}\n",
    "}\n",
    "\n",
    "# Apply the updates\n",
    "lisa_df.set_value_labels(updates)\n",
    "\n",
    "# Retrieve and print updated labels\n",
    "print(\"\\nGet updated value labels for 'astsni2007' and 'ssyk3'\")\n",
    "y = lisa_df.get_value_labels(['astsni2007', 'ssyk3'])\n",
    "print_sample_value_labels(y)\n",
    "\n"
   ]
  },
  {
   "cell_type": "markdown",
   "metadata": {},
   "source": [
    "## 4. Transforming columns (metadata carries over)\n",
    "\n",
    "When copying or transforming (renaming) columns the variable and value labels remain or carry over. This is illustrated by the following examples"
   ]
  },
  {
   "cell_type": "markdown",
   "metadata": {},
   "source": [
    "### 4.1 Renaming a column"
   ]
  },
  {
   "cell_type": "code",
   "execution_count": 15,
   "metadata": {},
   "outputs": [
    {
     "name": "stdout",
     "output_type": "stream",
     "text": [
      "\n",
      "Renaming 'astsni2007' to 'industry_2007'...\n",
      "\n",
      "Searching for 'industry' in renamed DataFrame:\n",
      "\n",
      "2 variables found matching 'industry':\n",
      "--------------------------------------------------------------------------------\n",
      "• astsni2002: Branch of \u001b[1;32mindustry\u001b[0m for statistics, main\n",
      "• \u001b[1;32mindustry\u001b[0m_2007: Branch of \u001b[1;32mindustry\u001b[0m for statistics, main\n",
      "--------------------------------------------------------------------------------\n"
     ]
    }
   ],
   "source": [
    "print(\"\\nRenaming 'astsni2007' to 'industry_2007'...\")\n",
    "renamed_df = lisa_df.rename(columns={'astsni2007': 'industry_2007'})\n",
    "\n",
    "# Show that the label was preserved\n",
    "print(\"\\nSearching for 'industry' in renamed DataFrame:\")\n",
    "renamed_df.meta_search(\"industry\")"
   ]
  },
  {
   "cell_type": "markdown",
   "metadata": {},
   "source": [
    "### 4.2 Creating a new column by duplication"
   ]
  },
  {
   "cell_type": "code",
   "execution_count": 16,
   "metadata": {},
   "outputs": [
    {
     "name": "stdout",
     "output_type": "stream",
     "text": [
      "\n",
      "Creating a new column by duplicating 'astsni2007'...\n",
      "\n",
      "Searching for 'industry' in the original DataFrame with the new column:\n",
      "\n",
      "3 variables found matching 'industry':\n",
      "--------------------------------------------------------------------------------\n",
      "• astsni2002: Branch of \u001b[1;32mindustry\u001b[0m for statistics, main\n",
      "• \u001b[1;32mindustry\u001b[0m_2007: Branch of \u001b[1;32mindustry\u001b[0m for statistics, main\n",
      "• \u001b[1;32mindustry\u001b[0m_copy: Branch of \u001b[1;32mindustry\u001b[0m for statistics, main\n",
      "--------------------------------------------------------------------------------\n"
     ]
    }
   ],
   "source": [
    "# Demonstrate automatic label transfer when duplicating columns\n",
    "print(\"\\nCreating a new column by duplicating 'astsni2007'...\")\n",
    "renamed_df['industry_copy'] = renamed_df['industry_2007']\n",
    "\n",
    "# Show that the label was automatically transferred\n",
    "print(\"\\nSearching for 'industry' in the original DataFrame with the new column:\")\n",
    "renamed_df.meta_search(\"industry\")"
   ]
  },
  {
   "cell_type": "markdown",
   "metadata": {},
   "source": [
    "### 4.3 Creating a new column by explicit copy_labels method"
   ]
  },
  {
   "cell_type": "code",
   "execution_count": 17,
   "metadata": {},
   "outputs": [
    {
     "name": "stdout",
     "output_type": "stream",
     "text": [
      "\n",
      "Creating another column and explicitly copying labels...\n",
      "\n",
      "Searching for 'industry' after explicit label copy:\n",
      "\n",
      "4 variables found matching 'industry':\n",
      "--------------------------------------------------------------------------------\n",
      "• astsni2002: Branch of \u001b[1;32mindustry\u001b[0m for statistics, main\n",
      "• \u001b[1;32mindustry\u001b[0m_2007: Branch of \u001b[1;32mindustry\u001b[0m for statistics, main\n",
      "• \u001b[1;32mindustry\u001b[0m_copy: Branch of \u001b[1;32mindustry\u001b[0m for statistics, main\n",
      "• another_\u001b[1;32mindustry\u001b[0m: Branch of \u001b[1;32mindustry\u001b[0m for statistics, main\n",
      "--------------------------------------------------------------------------------\n"
     ]
    }
   ],
   "source": [
    "# Demonstrate the explicit copy_labels method\n",
    "print(\"\\nCreating another column and explicitly copying labels...\")\n",
    "renamed_df['another_industry'] = renamed_df['industry_2007'] * 10  # This won't automatically copy labels\n",
    "renamed_df = renamed_df.copy_labels('industry_2007', 'another_industry')\n",
    "\n",
    "# Show that the label was copied\n",
    "print(\"\\nSearching for 'industry' after explicit label copy:\")\n",
    "renamed_df.meta_search(\"industry\")\n",
    "    "
   ]
  },
  {
   "cell_type": "markdown",
   "metadata": {},
   "source": [
    "## 5. Leveraging labels (Finally)\n",
    "\n",
    "With variable and value label metadata integrated into the pandas dataframe, we will now see the productivity gains that come by using the `.lab` accessor. Enjoy!"
   ]
  },
  {
   "cell_type": "markdown",
   "metadata": {},
   "source": [
    "### 5.1 Previewing DataFrames"
   ]
  },
  {
   "cell_type": "code",
   "execution_count": 18,
   "metadata": {},
   "outputs": [
    {
     "data": {
      "text/html": [
       "<div>\n",
       "<style scoped>\n",
       "    .dataframe tbody tr th:only-of-type {\n",
       "        vertical-align: middle;\n",
       "    }\n",
       "\n",
       "    .dataframe tbody tr th {\n",
       "        vertical-align: top;\n",
       "    }\n",
       "\n",
       "    .dataframe thead th {\n",
       "        text-align: right;\n",
       "    }\n",
       "</style>\n",
       "<table border=\"1\" class=\"dataframe\">\n",
       "  <thead>\n",
       "    <tr style=\"text-align: right;\">\n",
       "      <th></th>\n",
       "      <th>astsni2007</th>\n",
       "      <th>ssyk3</th>\n",
       "      <th>astsni2002</th>\n",
       "      <th>ssyk4</th>\n",
       "      <th>astsni2007</th>\n",
       "      <th>socbidrtypf</th>\n",
       "    </tr>\n",
       "  </thead>\n",
       "  <tbody>\n",
       "    <tr>\n",
       "      <th>0</th>\n",
       "      <td>01461</td>\n",
       "      <td>112</td>\n",
       "      <td>01231</td>\n",
       "      <td>1120</td>\n",
       "      <td>01461</td>\n",
       "      <td>1</td>\n",
       "    </tr>\n",
       "    <tr>\n",
       "      <th>1</th>\n",
       "      <td>01410</td>\n",
       "      <td>112</td>\n",
       "      <td>01125</td>\n",
       "      <td>1224</td>\n",
       "      <td>01410</td>\n",
       "      <td>0</td>\n",
       "    </tr>\n",
       "    <tr>\n",
       "      <th>2</th>\n",
       "      <td>01191</td>\n",
       "      <td>211</td>\n",
       "      <td>01231</td>\n",
       "      <td>1223</td>\n",
       "      <td>01191</td>\n",
       "      <td>0</td>\n",
       "    </tr>\n",
       "    <tr>\n",
       "      <th>3</th>\n",
       "      <td>01410</td>\n",
       "      <td>232</td>\n",
       "      <td>00000</td>\n",
       "      <td>1210</td>\n",
       "      <td>01410</td>\n",
       "      <td>1</td>\n",
       "    </tr>\n",
       "    <tr>\n",
       "      <th>4</th>\n",
       "      <td>01131</td>\n",
       "      <td>123</td>\n",
       "      <td>01221</td>\n",
       "      <td>0110</td>\n",
       "      <td>01131</td>\n",
       "      <td>0</td>\n",
       "    </tr>\n",
       "  </tbody>\n",
       "</table>\n",
       "</div>"
      ],
      "text/plain": [
       "  astsni2007 ssyk3 astsni2002 ssyk4 astsni2007 socbidrtypf\n",
       "0      01461   112      01231  1120      01461           1\n",
       "1      01410   112      01125  1224      01410           0\n",
       "2      01191   211      01231  1223      01191           0\n",
       "3      01410   232      00000  1210      01410           1\n",
       "4      01131   123      01221  0110      01131           0"
      ]
     },
     "execution_count": 18,
     "metadata": {},
     "output_type": "execute_result"
    }
   ],
   "source": [
    "# Preview the dataset without variable labels\n",
    "cols_to_show = ['astsni2007', 'ssyk3', 'astsni2002', 'ssyk4', 'astsni2007', 'socbidrtypf']\n",
    "lisa_df[cols_to_show].head()"
   ]
  },
  {
   "cell_type": "code",
   "execution_count": 19,
   "metadata": {},
   "outputs": [
    {
     "data": {
      "text/html": [
       "<div>\n",
       "<style scoped>\n",
       "    .dataframe tbody tr th:only-of-type {\n",
       "        vertical-align: middle;\n",
       "    }\n",
       "\n",
       "    .dataframe tbody tr th {\n",
       "        vertical-align: top;\n",
       "    }\n",
       "\n",
       "    .dataframe thead th {\n",
       "        text-align: right;\n",
       "    }\n",
       "</style>\n",
       "<table border=\"1\" class=\"dataframe\">\n",
       "  <thead>\n",
       "    <tr style=\"text-align: right;\">\n",
       "      <th></th>\n",
       "      <th>Branch of industry for statistics, main</th>\n",
       "      <th>Occupation at 3-digit level, main occupation</th>\n",
       "      <th>Branch of industry for statistics, main</th>\n",
       "      <th>Occupation at 4-digit level, main occupation</th>\n",
       "      <th>Branch of industry for statistics, main</th>\n",
       "      <th>Financial assistance for family, occurrence of</th>\n",
       "    </tr>\n",
       "  </thead>\n",
       "  <tbody>\n",
       "    <tr>\n",
       "      <th>0</th>\n",
       "      <td>01461</td>\n",
       "      <td>112</td>\n",
       "      <td>01231</td>\n",
       "      <td>1120</td>\n",
       "      <td>01461</td>\n",
       "      <td>1</td>\n",
       "    </tr>\n",
       "    <tr>\n",
       "      <th>1</th>\n",
       "      <td>01410</td>\n",
       "      <td>112</td>\n",
       "      <td>01125</td>\n",
       "      <td>1224</td>\n",
       "      <td>01410</td>\n",
       "      <td>0</td>\n",
       "    </tr>\n",
       "    <tr>\n",
       "      <th>2</th>\n",
       "      <td>01191</td>\n",
       "      <td>211</td>\n",
       "      <td>01231</td>\n",
       "      <td>1223</td>\n",
       "      <td>01191</td>\n",
       "      <td>0</td>\n",
       "    </tr>\n",
       "    <tr>\n",
       "      <th>3</th>\n",
       "      <td>01410</td>\n",
       "      <td>232</td>\n",
       "      <td>00000</td>\n",
       "      <td>1210</td>\n",
       "      <td>01410</td>\n",
       "      <td>1</td>\n",
       "    </tr>\n",
       "    <tr>\n",
       "      <th>4</th>\n",
       "      <td>01131</td>\n",
       "      <td>123</td>\n",
       "      <td>01221</td>\n",
       "      <td>0110</td>\n",
       "      <td>01131</td>\n",
       "      <td>0</td>\n",
       "    </tr>\n",
       "  </tbody>\n",
       "</table>\n",
       "</div>"
      ],
      "text/plain": [
       "  Branch of industry for statistics, main  \\\n",
       "0                                   01461   \n",
       "1                                   01410   \n",
       "2                                   01191   \n",
       "3                                   01410   \n",
       "4                                   01131   \n",
       "\n",
       "  Occupation at 3-digit level, main occupation  \\\n",
       "0                                          112   \n",
       "1                                          112   \n",
       "2                                          211   \n",
       "3                                          232   \n",
       "4                                          123   \n",
       "\n",
       "  Branch of industry for statistics, main  \\\n",
       "0                                   01231   \n",
       "1                                   01125   \n",
       "2                                   01231   \n",
       "3                                   00000   \n",
       "4                                   01221   \n",
       "\n",
       "  Occupation at 4-digit level, main occupation  \\\n",
       "0                                         1120   \n",
       "1                                         1224   \n",
       "2                                         1223   \n",
       "3                                         1210   \n",
       "4                                         0110   \n",
       "\n",
       "  Branch of industry for statistics, main  \\\n",
       "0                                   01461   \n",
       "1                                   01410   \n",
       "2                                   01191   \n",
       "3                                   01410   \n",
       "4                                   01131   \n",
       "\n",
       "  Financial assistance for family, occurrence of  \n",
       "0                                              1  \n",
       "1                                              0  \n",
       "2                                              0  \n",
       "3                                              1  \n",
       "4                                              0  "
      ]
     },
     "execution_count": 19,
     "metadata": {},
     "output_type": "execute_result"
    }
   ],
   "source": [
    "# Preview the dataset with variable labels\n",
    "lisa_df[cols_to_show].lab.head()"
   ]
  },
  {
   "cell_type": "code",
   "execution_count": 20,
   "metadata": {},
   "outputs": [
    {
     "data": {
      "text/html": [
       "<div>\n",
       "<style scoped>\n",
       "    .dataframe tbody tr th:only-of-type {\n",
       "        vertical-align: middle;\n",
       "    }\n",
       "\n",
       "    .dataframe tbody tr th {\n",
       "        vertical-align: top;\n",
       "    }\n",
       "\n",
       "    .dataframe thead th {\n",
       "        text-align: right;\n",
       "    }\n",
       "</style>\n",
       "<table border=\"1\" class=\"dataframe\">\n",
       "  <thead>\n",
       "    <tr style=\"text-align: right;\">\n",
       "      <th></th>\n",
       "      <th>Branch of industry for statistics, main</th>\n",
       "      <th>Occupation at 3-digit level, main occupation</th>\n",
       "      <th>Branch of industry for statistics, main</th>\n",
       "      <th>Occupation at 4-digit level, main occupation</th>\n",
       "      <th>Branch of industry for statistics, main</th>\n",
       "      <th>Financial assistance for family, occurrence of</th>\n",
       "    </tr>\n",
       "  </thead>\n",
       "  <tbody>\n",
       "    <tr>\n",
       "      <th>0</th>\n",
       "      <td>Piglet breeder</td>\n",
       "      <td>Chief officials in interest organisations</td>\n",
       "      <td>Piglet breeding</td>\n",
       "      <td>Chief officials in interest organisations</td>\n",
       "      <td>Piglet breeder</td>\n",
       "      <td>Yes</td>\n",
       "    </tr>\n",
       "    <tr>\n",
       "      <th>1</th>\n",
       "      <td>Milk producers</td>\n",
       "      <td>Chief officials in interest organisations</td>\n",
       "      <td>Cultivation of kitchen, ornamental and nursery...</td>\n",
       "      <td>Operations managers in trade, hotels and resta...</td>\n",
       "      <td>Milk producers</td>\n",
       "      <td>No</td>\n",
       "    </tr>\n",
       "    <tr>\n",
       "      <th>2</th>\n",
       "      <td>Grower of ornamental plants in greenhouses</td>\n",
       "      <td>Physicists, chemists, etc.</td>\n",
       "      <td>Piglet breeding</td>\n",
       "      <td>Operations managers in construction</td>\n",
       "      <td>Grower of ornamental plants in greenhouses</td>\n",
       "      <td>No</td>\n",
       "    </tr>\n",
       "    <tr>\n",
       "      <th>3</th>\n",
       "      <td>Milk producers</td>\n",
       "      <td>High school teachers, etc.</td>\n",
       "      <td>Unknown</td>\n",
       "      <td>Managing directors, plant managers, etc.</td>\n",
       "      <td>Milk producers</td>\n",
       "      <td>Yes</td>\n",
       "    </tr>\n",
       "    <tr>\n",
       "      <th>4</th>\n",
       "      <td>Potato grower</td>\n",
       "      <td>Managers of special functions</td>\n",
       "      <td>Sheep breeding</td>\n",
       "      <td>Military personnel</td>\n",
       "      <td>Potato grower</td>\n",
       "      <td>No</td>\n",
       "    </tr>\n",
       "  </tbody>\n",
       "</table>\n",
       "</div>"
      ],
      "text/plain": [
       "      Branch of industry for statistics, main  \\\n",
       "0                              Piglet breeder   \n",
       "1                              Milk producers   \n",
       "2  Grower of ornamental plants in greenhouses   \n",
       "3                              Milk producers   \n",
       "4                               Potato grower   \n",
       "\n",
       "  Occupation at 3-digit level, main occupation  \\\n",
       "0    Chief officials in interest organisations   \n",
       "1    Chief officials in interest organisations   \n",
       "2                   Physicists, chemists, etc.   \n",
       "3                   High school teachers, etc.   \n",
       "4                Managers of special functions   \n",
       "\n",
       "             Branch of industry for statistics, main  \\\n",
       "0                                    Piglet breeding   \n",
       "1  Cultivation of kitchen, ornamental and nursery...   \n",
       "2                                    Piglet breeding   \n",
       "3                                            Unknown   \n",
       "4                                     Sheep breeding   \n",
       "\n",
       "        Occupation at 4-digit level, main occupation  \\\n",
       "0          Chief officials in interest organisations   \n",
       "1  Operations managers in trade, hotels and resta...   \n",
       "2                Operations managers in construction   \n",
       "3           Managing directors, plant managers, etc.   \n",
       "4                                 Military personnel   \n",
       "\n",
       "      Branch of industry for statistics, main  \\\n",
       "0                              Piglet breeder   \n",
       "1                              Milk producers   \n",
       "2  Grower of ornamental plants in greenhouses   \n",
       "3                              Milk producers   \n",
       "4                               Potato grower   \n",
       "\n",
       "  Financial assistance for family, occurrence of  \n",
       "0                                            Yes  \n",
       "1                                             No  \n",
       "2                                             No  \n",
       "3                                            Yes  \n",
       "4                                             No  "
      ]
     },
     "execution_count": 20,
     "metadata": {},
     "output_type": "execute_result"
    }
   ],
   "source": [
    "# Show both variable and value labels\n",
    "lisa_df[cols_to_show].lab.show_values().head()"
   ]
  },
  {
   "cell_type": "markdown",
   "metadata": {},
   "source": [
    "## 5.2 Tabulating DataFrames"
   ]
  },
  {
   "cell_type": "code",
   "execution_count": 21,
   "metadata": {},
   "outputs": [
    {
     "data": {
      "text/plain": [
       "astsni2007\n",
       "01133    79\n",
       "01301    78\n",
       "01492    77\n",
       "01461    76\n",
       "01430    75\n",
       "01450    75\n",
       "01131    73\n",
       "01110    73\n",
       "01302    72\n",
       "01191    71\n",
       "0        71\n",
       "01199    67\n",
       "01410    59\n",
       "00000    54\n",
       "Name: count, dtype: int64"
      ]
     },
     "execution_count": 21,
     "metadata": {},
     "output_type": "execute_result"
    }
   ],
   "source": [
    "# Tabulate a variable without value labels\n",
    "lisa_df.astsni2007.value_counts()"
   ]
  },
  {
   "cell_type": "code",
   "execution_count": 22,
   "metadata": {},
   "outputs": [
    {
     "data": {
      "text/plain": [
       "Branch of industry for statistics, main\n",
       "Grower of vegetables in open field                 79\n",
       "Grower of nursery plants in greenhouses            78\n",
       "Pet breeder                                        77\n",
       "Piglet breeder                                     76\n",
       "Stud farms and other horse breeders, etc.          75\n",
       "Sheep and goat breeders                            75\n",
       "Potato grower                                      73\n",
       "new custom label 2                                 73\n",
       "Growers of nursery plants, etc. in the open air    72\n",
       "Grower of ornamental plants in greenhouses         71\n",
       "0                                                  71\n",
       "Grower of other annual and biennial plants         67\n",
       "Milk producers                                     59\n",
       "new custom label 1                                 54\n",
       "Name: count, dtype: int64"
      ]
     },
     "execution_count": 22,
     "metadata": {},
     "output_type": "execute_result"
    }
   ],
   "source": [
    "# Tabulate a variable with value labels\n",
    "lisa_df.lab.astsni2007.value_counts()"
   ]
  },
  {
   "cell_type": "markdown",
   "metadata": {},
   "source": [
    "## 5.3 Creating a labeled plot\n",
    "\n",
    "As with the previewing and tabulation we use .lab to automatically label plots. Labels are even preserved through aggregation operations like `group_by`."
   ]
  },
  {
   "cell_type": "code",
   "execution_count": 23,
   "metadata": {},
   "outputs": [
    {
     "data": {
      "image/png": "[encoded data removed]",
      "text/plain": [
       "<Figure size 1000x600 with 1 Axes>"
      ]
     },
     "metadata": {},
     "output_type": "display_data"
    }
   ],
   "source": [
    "# Aggregate data by year (using mean, but you can change to median)\n",
    "agg_df = lisa_df.groupby([\"examar\", \"syssstatj\"], as_index=False).agg({\"inkpens\": \"mean\"})\n",
    "\n",
    "# Create the plot\n",
    "plt.figure(figsize=(10, 6))  # Adjust figure size if needed\n",
    "ax = sns.scatterplot(data=agg_df.lab, x='examar', y='inkpens', hue='syssstatj', palette=\"viridis\")\n",
    "\n",
    "# Style adjustments\n",
    "plt.xticks(rotation=45, ha=\"right\", fontsize=10) \n",
    "sns.move_legend(ax, \"lower center\", bbox_to_anchor=(0.5, -0.5), frameon=False, title_fontproperties={'weight': 'bold'})\n",
    "\n",
    "# Show plot\n",
    "plt.show()\n"
   ]
  },
  {
   "cell_type": "markdown",
   "metadata": {},
   "source": [
    "### 5.4 Regression analysis\n",
    "\n",
    "We can also include the labeled data in regression analysis"
   ]
  },
  {
   "cell_type": "code",
   "execution_count": 24,
   "metadata": {},
   "outputs": [
    {
     "name": "stdout",
     "output_type": "stream",
     "text": [
      "                                            OLS Regression Results                                            \n",
      "==============================================================================================================\n",
      "Dep. Variable:     Subcomponent of disposable income, 2004 definition   R-squared:                       0.018\n",
      "Model:                                                            OLS   Adj. R-squared:                  0.005\n",
      "Method:                                                 Least Squares   F-statistic:                     1.325\n",
      "Date:                                                Mon, 17 Mar 2025   Prob (F-statistic):              0.185\n",
      "Time:                                                        16:48:49   Log-Likelihood:                -12547.\n",
      "No. Observations:                                                1000   AIC:                         2.512e+04\n",
      "Df Residuals:                                                     985   BIC:                         2.520e+04\n",
      "Df Model:                                                          14                                         \n",
      "Covariance Type:                                            nonrobust                                         \n",
      "===================================================================================================================\n",
      "                                                      coef    std err          t      P>|t|      [0.025      0.975]\n",
      "-------------------------------------------------------------------------------------------------------------------\n",
      "const                                              9.8e+04   8761.548     11.185      0.000    8.08e+04    1.15e+05\n",
      "Grower of nursery plants in greenhouses          1.668e+04   1.13e+04      1.482      0.139   -5408.651    3.88e+04\n",
      "Grower of ornamental plants in greenhouses       -811.6858   1.15e+04     -0.070      0.944   -2.34e+04    2.18e+04\n",
      "Grower of other annual and biennial plants       2796.5890   1.17e+04      0.239      0.811   -2.01e+04    2.57e+04\n",
      "Grower of vegetables in open field              -1682.6762   1.12e+04     -0.150      0.881   -2.37e+04    2.03e+04\n",
      "Growers of nursery plants, etc. in the open air  1.576e+04   1.15e+04      1.373      0.170   -6761.593    3.83e+04\n",
      "Milk producers                                   3.281e+04   1.21e+04      2.714      0.007    9084.359    5.65e+04\n",
      "Pet breeder                                      5349.1135   1.13e+04      0.474      0.636   -1.68e+04    2.75e+04\n",
      "Piglet breeder                                   1.563e+04   1.13e+04      1.380      0.168   -6593.075    3.79e+04\n",
      "Potato grower                                    1.925e+04   1.14e+04      1.684      0.093   -3186.238    4.17e+04\n",
      "Sheep and goat breeders                          7882.2121   1.14e+04      0.694      0.488   -1.44e+04    3.02e+04\n",
      "Stud farms and other horse breeders, etc.        1341.5876   1.14e+04      0.118      0.906    -2.1e+04    2.36e+04\n",
      "new custom label 1                               1.803e+04   1.24e+04      1.455      0.146   -6288.853    4.23e+04\n",
      "new custom label 2                               1.342e+04   1.14e+04      1.174      0.241   -9016.684    3.59e+04\n",
      "Disposable income, family, 2004 definition          0.0130      0.031      0.420      0.674      -0.048       0.074\n",
      "==============================================================================\n",
      "Omnibus:                      356.386   Durbin-Watson:                   2.131\n",
      "Prob(Omnibus):                  0.000   Jarque-Bera (JB):               52.366\n",
      "Skew:                           0.127   Prob(JB):                     4.26e-12\n",
      "Kurtosis:                       1.908   Cond. No.                     1.91e+06\n",
      "==============================================================================\n",
      "\n",
      "Notes:\n",
      "[1] Standard Errors assume that the covariance matrix of the errors is correctly specified.\n",
      "[2] The condition number is large, 1.91e+06. This might indicate that there are\n",
      "strong multicollinearity or other numerical problems.\n"
     ]
    }
   ],
   "source": [
    "import statsmodels.api as sm\n",
    "\n",
    "# Extract labeled variables\n",
    "income = lisa_df.lab['dispinkfam04']  # Numeric variable\n",
    "industry = lisa_df.lab['astsni2007']  # Categorical variable\n",
    "outcome = lisa_df.lab['dispink04']    # Target variable\n",
    "\n",
    "# Convert categorical variable into one-hot encoding\n",
    "X = pd.get_dummies(industry, drop_first=True, dtype=float)  # Ensure numeric dtype\n",
    "X[income.name] = income.astype(float)  # Ensure numeric dtype\n",
    "\n",
    "# Add intercept\n",
    "X = sm.add_constant(X)\n",
    "\n",
    "# Run the regression\n",
    "model = sm.OLS(outcome.astype(float), X).fit()  # Ensure numeric dtype for outcome\n",
    "print(model.summary())\n",
    "\n"
   ]
  },
  {
   "cell_type": "markdown",
   "metadata": {},
   "source": [
    "## 6. Autolabel Lookup\n",
    "\n",
    "We also provide a function to lookup any variables (by variable name) in the RegiStream domains. Here is example searching Statistics Sweden (SCB)"
   ]
  },
  {
   "cell_type": "code",
   "execution_count": 25,
   "metadata": {},
   "outputs": [
    {
     "name": "stdout",
     "output_type": "stream",
     "text": [
      "------------------------------------------------------------------------------------------\n",
      "| VARIABLE:     \u001b[1mastsni2007\u001b[0m\n",
      "| LABEL:        Branch of industry for statistics, main\n",
      "| DEFINITION:   Main branch of industry according to the Swedish classification of ind\n",
      "|               ustries (SNI), set for statistical purposes.¶\n",
      "| VALUE LABELS: 00000: Unknown\n",
      "|               01110: Growers of cereals (except rice), pulses and oilseeds\n",
      "|               01120: Rice farmer\n",
      "|               01131: Potato grower\n",
      "|               01132: Sugar beet growers\n",
      "|               01133: Grower of vegetables in open field\n",
      "|               01134: Grower of vegetables in greenhouse\n",
      "|               01135: Mushroom growers, etc.\n",
      "|               (and 814 more labels)\n",
      "------------------------------------------------------------------------------------------\n"
     ]
    }
   ],
   "source": [
    "# lookup a variable\n",
    "lookup('astsni2007', domain='scb', lang='eng')"
   ]
  }
 ],
 "metadata": {
  "kernelspec": {
   "display_name": "jc_se",
   "language": "python",
   "name": "python3"
  },
  "language_info": {
   "codemirror_mode": {
    "name": "ipython",
    "version": 3
   },
   "file_extension": ".py",
   "mimetype": "text/x-python",
   "name": "python",
   "nbconvert_exporter": "python",
   "pygments_lexer": "ipython3",
   "version": "3.11.10"
  }
 },
 "nbformat": 4,
 "nbformat_minor": 2
}
