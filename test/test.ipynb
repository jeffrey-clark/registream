{
 "cells": [
  {
   "cell_type": "code",
   "execution_count": 5,
   "metadata": {},
   "outputs": [],
   "source": [
    "# --- SET PROJECT ROOT IN JUPYTER NOTEBOOK ---\n",
    "import os\n",
    "import sys\n",
    "\n",
    "# Start from the current working directory instead of __file__\n",
    "root_dir = os.getcwd()\n",
    "\n",
    "# Traverse upwards until the .project_root file is found or until reaching system root\n",
    "while not os.path.exists(os.path.join(root_dir, '.project_root')) and root_dir != '/':\n",
    "    root_dir = os.path.dirname(root_dir)\n",
    "\n",
    "# Make sure the .project_root file is found\n",
    "assert root_dir != '/', \"The .project_root file was not found. Make sure it exists in your project root.\"\n",
    "\n",
    "# Append project root to sys.path\n",
    "if root_dir not in sys.path:\n",
    "    sys.path.append(root_dir)\n",
    "\n",
    "# Now imports should work correctly\n",
    "import pandas as pd\n",
    "from python import src\n",
    "from python.src import lookup\n",
    "import seaborn as sns\n",
    "import matplotlib.pyplot as plt\n",
    "import statsmodels.api as sm\n"
   ]
  },
  {
   "cell_type": "code",
   "execution_count": 6,
   "metadata": {},
   "outputs": [
    {
     "name": "stdout",
     "output_type": "stream",
     "text": [
      "\n",
      "✓ Applied variable labels to 28776 variables\n",
      "\n"
     ]
    },
    {
     "name": "stderr",
     "output_type": "stream",
     "text": [
      "Parsing value labels: 100%|██████████| 13351/13351 [00:06<00:00, 2143.11it/s]"
     ]
    },
    {
     "name": "stdout",
     "output_type": "stream",
     "text": [
      "\n",
      "✓ Applied value labels to 13351 variables (0 errors)\n",
      "\n"
     ]
    },
    {
     "name": "stderr",
     "output_type": "stream",
     "text": [
      "\n"
     ]
    }
   ],
   "source": [
    "# Load your data\n",
    "lisa_df = pd.read_stata(os.path.join(root_dir, 'test/lisa.dta'))\n",
    "\n",
    "# Apply labels automatically\n",
    "lisa_df.rs.autolabel(domain='scb', lang='swe')\n",
    "lisa_df.rs.autolabel(label_type='values', domain='scb', lang='swe')"
   ]
  },
  {
   "cell_type": "code",
   "execution_count": 13,
   "metadata": {},
   "outputs": [
    {
     "data": {
      "text/html": [
       "<div>\n",
       "<style scoped>\n",
       "    .dataframe tbody tr th:only-of-type {\n",
       "        vertical-align: middle;\n",
       "    }\n",
       "\n",
       "    .dataframe tbody tr th {\n",
       "        vertical-align: top;\n",
       "    }\n",
       "\n",
       "    .dataframe thead th {\n",
       "        text-align: right;\n",
       "    }\n",
       "</style>\n",
       "<table border=\"1\" class=\"dataframe\">\n",
       "  <thead>\n",
       "    <tr style=\"text-align: right;\">\n",
       "      <th></th>\n",
       "      <th>Näringsgren för statistiken, huvudsaklig</th>\n",
       "    </tr>\n",
       "  </thead>\n",
       "  <tbody>\n",
       "    <tr>\n",
       "      <th>0</th>\n",
       "      <td>Smågrisuppfödare</td>\n",
       "    </tr>\n",
       "    <tr>\n",
       "      <th>1</th>\n",
       "      <td>Mjölkproducenter</td>\n",
       "    </tr>\n",
       "    <tr>\n",
       "      <th>2</th>\n",
       "      <td>Odlare av prydnadsväxter i växthus</td>\n",
       "    </tr>\n",
       "    <tr>\n",
       "      <th>3</th>\n",
       "      <td>Mjölkproducenter</td>\n",
       "    </tr>\n",
       "    <tr>\n",
       "      <th>4</th>\n",
       "      <td>Potatisodlare</td>\n",
       "    </tr>\n",
       "    <tr>\n",
       "      <th>...</th>\n",
       "      <td>...</td>\n",
       "    </tr>\n",
       "    <tr>\n",
       "      <th>995</th>\n",
       "      <td>Stuterier och andra hästuppfödare m.fl.</td>\n",
       "    </tr>\n",
       "    <tr>\n",
       "      <th>996</th>\n",
       "      <td>Odlare av övriga ett- och tvååriga växter</td>\n",
       "    </tr>\n",
       "    <tr>\n",
       "      <th>997</th>\n",
       "      <td>Mjölkproducenter</td>\n",
       "    </tr>\n",
       "    <tr>\n",
       "      <th>998</th>\n",
       "      <td>Odlare av grönsaker på friland</td>\n",
       "    </tr>\n",
       "    <tr>\n",
       "      <th>999</th>\n",
       "      <td>Odlare av spannmål (utom ris), baljväxter och ...</td>\n",
       "    </tr>\n",
       "  </tbody>\n",
       "</table>\n",
       "<p>1000 rows × 1 columns</p>\n",
       "</div>"
      ],
      "text/plain": [
       "              Näringsgren för statistiken, huvudsaklig\n",
       "0                                     Smågrisuppfödare\n",
       "1                                     Mjölkproducenter\n",
       "2                   Odlare av prydnadsväxter i växthus\n",
       "3                                     Mjölkproducenter\n",
       "4                                        Potatisodlare\n",
       "..                                                 ...\n",
       "995            Stuterier och andra hästuppfödare m.fl.\n",
       "996          Odlare av övriga ett- och tvååriga växter\n",
       "997                                   Mjölkproducenter\n",
       "998                     Odlare av grönsaker på friland\n",
       "999  Odlare av spannmål (utom ris), baljväxter och ...\n",
       "\n",
       "[1000 rows x 1 columns]"
      ]
     },
     "execution_count": 13,
     "metadata": {},
     "output_type": "execute_result"
    }
   ],
   "source": [
    "lisa_df.rs[['astsni2007']]"
   ]
  },
  {
   "cell_type": "code",
   "execution_count": 14,
   "metadata": {},
   "outputs": [
    {
     "name": "stdout",
     "output_type": "stream",
     "text": [
      "    lopnr1  ku3cfarnrlopnr1  ku2cfarnrlopnr1  ku1cfarnrlopnr1  cfarnrlopnr1  \\\n",
      "0   8042.0     4.453566e+09     4.453861e+09     4.453979e+09  4.452928e+09   \n",
      "1  11835.0     4.452388e+09     4.454182e+09     4.454254e+09  4.453636e+09   \n",
      "2  16151.0     4.453710e+09     4.452687e+09     4.453376e+09  4.452802e+09   \n",
      "3  10219.0     4.453022e+09     4.452837e+09     4.453977e+09  4.452566e+09   \n",
      "4  15551.0     4.453534e+09     4.453350e+09     4.453615e+09  4.452249e+09   \n",
      "\n",
      "   ku3peorgnrlopnr1  ku2peorgnrlopnr1  ku1peorgnrlopnr1  peorgnrlopnr1  \\\n",
      "0      1.888033e+10      1.887997e+10      1.888096e+10   1.888044e+10   \n",
      "1      1.888045e+10      1.888063e+10      1.888060e+10   1.887993e+10   \n",
      "2      1.888086e+10      1.888150e+10      1.888058e+10   1.888145e+10   \n",
      "3      1.888093e+10      1.887988e+10      1.888069e+10   1.888131e+10   \n",
      "4      1.888159e+10      1.888033e+10      1.888073e+10   1.888078e+10   \n",
      "\n",
      "   Konsumtionsenhet enligt 2004 års definition  ...  \\\n",
      "0                                     5.380837  ...   \n",
      "1                                     2.625750  ...   \n",
      "2                                     2.658260  ...   \n",
      "3                                     5.812866  ...   \n",
      "4                                     5.957937  ...   \n",
      "\n",
      "  Ekonomiskt bistånd för familj, förekomst av Handikappersättning  \\\n",
      "0                                           1               139.0   \n",
      "1                                           0               207.0   \n",
      "2                                           0               389.0   \n",
      "3                                           1               174.0   \n",
      "4                                           0               159.0   \n",
      "\n",
      "  Mottaget bidragsförskott Ekonomiskt bistånd för familj  \\\n",
      "0                    366.0                        1335.0   \n",
      "1                     56.0                        1894.0   \n",
      "2                    522.0                         293.0   \n",
      "3                    720.0                        1577.0   \n",
      "4                     82.0                         309.0   \n",
      "\n",
      "  Bostadsbidrag för barnfamiljer samt makar & ensamstående yngre än 29 år, familj  \\\n",
      "0                                              356.0                                \n",
      "1                                                7.0                                \n",
      "2                                              295.0                                \n",
      "3                                               77.0                                \n",
      "4                                              402.0                                \n",
      "\n",
      "  Bostadstillägg och särskilt bostadstillägg till pensionärer, familj  \\\n",
      "0                                               67.0                    \n",
      "1                                              172.0                    \n",
      "2                                              605.0                    \n",
      "3                                                3.0                    \n",
      "4                                              297.0                    \n",
      "\n",
      "  Disponibel inkomst individualiserad från familj, 2004 års definition  \\\n",
      "0                                           143064.0                     \n",
      "1                                           162967.0                     \n",
      "2                                           106439.0                     \n",
      "3                                           223620.0                     \n",
      "4                                             3038.0                     \n",
      "\n",
      "  Delkomponent till disponibel inkomst, 2004 års definition  \\\n",
      "0                                             7998.0          \n",
      "1                                           189623.0          \n",
      "2                                            77571.0          \n",
      "3                                           205045.0          \n",
      "4                                            96579.0          \n",
      "\n",
      "  Disponibel inkomst, familj, 2004 års definition Operativ företagsledare  \n",
      "0                                         89692.0                       1  \n",
      "1                                        134061.0                       1  \n",
      "2                                        138675.0                       1  \n",
      "3                                         30747.0                       1  \n",
      "4                                        153349.0                       1  \n",
      "\n",
      "[5 rows x 174 columns]\n"
     ]
    }
   ],
   "source": [
    "# Labeled DataFrame usage\n",
    "print(lisa_df.rs.head())\n"
   ]
  },
  {
   "cell_type": "code",
   "execution_count": 15,
   "metadata": {},
   "outputs": [
    {
     "name": "stdout",
     "output_type": "stream",
     "text": [
      "Näringsgren för statistiken, huvudsaklig\n",
      "Odlare av grönsaker på friland                              79\n",
      "Odlare av plantskoleväxter i växthus                        78\n",
      "Uppfödare av sällskapsdjur                                  77\n",
      "Smågrisuppfödare                                            76\n",
      "Stuterier och andra hästuppfödare m.fl.                     75\n",
      "Får- och getuppfödare                                       75\n",
      "Potatisodlare                                               73\n",
      "Odlare av spannmål (utom ris), baljväxter och oljeväxter    73\n",
      "Odlare av plantskoleväxter m.m. på friland                  72\n",
      "Odlare av prydnadsväxter i växthus                          71\n",
      "0                                                           71\n",
      "Odlare av övriga ett- och tvååriga växter                   67\n",
      "Mjölkproducenter                                            59\n",
      "Okänd                                                       54\n",
      "Name: count, dtype: int64\n"
     ]
    }
   ],
   "source": [
    "# Direct labeled column access\n",
    "print(lisa_df.rs.astsni2007.value_counts())"
   ]
  },
  {
   "cell_type": "code",
   "execution_count": null,
   "metadata": {},
   "outputs": [],
   "source": [
    "\n",
    "sns.scatterplot(data=lisa_df.rs, x='ssyk3', y='ssyk4', hue='astsni2007')\n",
    "plt.title(\"Labeled Plot Example\")\n",
    "plt.show()"
   ]
  },
  {
   "cell_type": "code",
   "execution_count": 19,
   "metadata": {},
   "outputs": [
    {
     "name": "stdout",
     "output_type": "stream",
     "text": [
      "------------------------------------------------------------------------------------------\n",
      "| VARIABLE:     \u001b[1mastsni2007\u001b[0m\n",
      "| LABEL:        Näringsgren för statistiken, huvudsaklig\n",
      "| DEFINITION:   Huvudsaklig näringsgren enligt Svensk näringsgrensindelning (SNI), sat\n",
      "|               t för statistiska ändamål.¶\n",
      "| VALUE LABELS: 00000: Okänd\n",
      "|               01110: Odlare av spannmål (utom ris), baljväxter och oljeväxter\n",
      "|               01120: Risodlare\n",
      "|               01131: Potatisodlare\n",
      "|               01132: Sockerbetsodlare\n",
      "|               01133: Odlare av grönsaker på friland\n",
      "|               01134: Odlare av grönsaker i växthus\n",
      "|               01135: Svampodlare m.fl.\n",
      "|               (and 814 more labels)\n",
      "------------------------------------------------------------------------------------------\n",
      "------------------------------------------------------------------------------------------\n",
      "| VARIABLE:     \u001b[1mcarb\u001b[0m\n",
      "| LABEL:        Arbetsinkomst\n",
      "| DEFINITION:   Summan av lön, företagarinkomst, sjukpenning, föräldrapenning och ersä\n",
      "|               ttning i samband med militärtjänstgöring.\n",
      "------------------------------------------------------------------------------------------\n"
     ]
    }
   ],
   "source": [
    "# lookup\n",
    "lookup(['astsni2007', 'carb'], domain='scb', lang='swe')"
   ]
  },
  {
   "cell_type": "code",
   "execution_count": 17,
   "metadata": {},
   "outputs": [
    {
     "name": "stdout",
     "output_type": "stream",
     "text": [
      "                                                OLS Regression Results                                               \n",
      "=====================================================================================================================\n",
      "Dep. Variable:     Delkomponent till disponibel inkomst, 2004 års definition   R-squared:                       0.000\n",
      "Model:                                                                   OLS   Adj. R-squared:                 -0.001\n",
      "Method:                                                        Least Squares   F-statistic:                    0.1111\n",
      "Date:                                                       Sat, 15 Mar 2025   Prob (F-statistic):              0.739\n",
      "Time:                                                               09:40:28   Log-Likelihood:                -12557.\n",
      "No. Observations:                                                       1000   AIC:                         2.512e+04\n",
      "Df Residuals:                                                            998   BIC:                         2.513e+04\n",
      "Df Model:                                                                  1                                         \n",
      "Covariance Type:                                                   nonrobust                                         \n",
      "===================================================================================================================\n",
      "                                                      coef    std err          t      P>|t|      [0.025      0.975]\n",
      "-------------------------------------------------------------------------------------------------------------------\n",
      "const                                            1.083e+05   4070.055     26.614      0.000       1e+05    1.16e+05\n",
      "Disponibel inkomst, familj, 2004 års definition     0.0103      0.031      0.333      0.739      -0.050       0.071\n",
      "==============================================================================\n",
      "Omnibus:                      469.678   Durbin-Watson:                   2.111\n",
      "Prob(Omnibus):                  0.000   Jarque-Bera (JB):               56.378\n",
      "Skew:                           0.123   Prob(JB):                     5.73e-13\n",
      "Kurtosis:                       1.863   Cond. No.                     2.47e+05\n",
      "==============================================================================\n",
      "\n",
      "Notes:\n",
      "[1] Standard Errors assume that the covariance matrix of the errors is correctly specified.\n",
      "[2] The condition number is large, 2.47e+05. This might indicate that there are\n",
      "strong multicollinearity or other numerical problems.\n"
     ]
    }
   ],
   "source": [
    "\n",
    "# Use lisa_df.rs directly with original column names\n",
    "X = lisa_df.rs[['dispinkfam04']]  # This will return a DataFrame with labeled column\n",
    "y = lisa_df.rs['dispink04']       # This will return a Series with label as name\n",
    "\n",
    "X = sm.add_constant(X)\n",
    "model = sm.OLS(y, X).fit()\n",
    "print(model.summary())\n"
   ]
  }
 ],
 "metadata": {
  "kernelspec": {
   "display_name": "jc_se",
   "language": "python",
   "name": "python3"
  },
  "language_info": {
   "codemirror_mode": {
    "name": "ipython",
    "version": 3
   },
   "file_extension": ".py",
   "mimetype": "text/x-python",
   "name": "python",
   "nbconvert_exporter": "python",
   "pygments_lexer": "ipython3",
   "version": "3.11.10"
  }
 },
 "nbformat": 4,
 "nbformat_minor": 2
}
